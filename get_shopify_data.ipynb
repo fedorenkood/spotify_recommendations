{
 "cells": [
  {
   "cell_type": "code",
   "execution_count": 1,
   "metadata": {},
   "outputs": [],
   "source": [
    "from spotipy.oauth2 import SpotifyClientCredentials\n",
    "import spotipy\n",
    "\n",
    "import csv\n",
    "import pandas as pd\n",
    "import os\n",
    "from varname import nameof\n"
   ]
  },
  {
   "cell_type": "code",
   "execution_count": 2,
   "metadata": {},
   "outputs": [],
   "source": [
    "client_id = \"17cb462452e3414fa20f6234f99db573\"\n",
    "client_secret = \"fcecbf7ffb4646e79d53dddfec6b5273\"\n",
    "client_credentials = SpotifyClientCredentials(client_id=client_id, client_secret=client_secret)\n",
    "spotify = spotipy.Spotify(client_credentials_manager=client_credentials)"
   ]
  },
  {
   "cell_type": "code",
   "execution_count": 3,
   "metadata": {},
   "outputs": [
    {
     "name": "stderr",
     "output_type": "stream",
     "text": [
      "<>:7: SyntaxWarning: \"is\" with a literal. Did you mean \"==\"?\n",
      "<>:7: SyntaxWarning: \"is\" with a literal. Did you mean \"==\"?\n",
      "C:\\Users\\fedor\\AppData\\Local\\Temp\\ipykernel_4540\\1366869642.py:7: SyntaxWarning: \"is\" with a literal. Did you mean \"==\"?\n",
      "  if prefix is 'playlist':\n"
     ]
    }
   ],
   "source": [
    "def get_songs_data(prefix, hash, label, feature_names=['danceability', 'energy', 'key', 'loudness', 'mode', 'speechiness', 'acousticness', 'instrumentalness', 'liveness', 'valence', 'tempo']):\n",
    "    feature_cols = [ name for name in feature_names]\n",
    "    feature_cols.insert(0, 'track_id')\n",
    "    feature_cols.append('label')\n",
    "    songs_df = pd.DataFrame(columns=feature_cols)\n",
    "\n",
    "    if prefix is 'playlist':\n",
    "        playlist = 'spotify:playlist:' + hash\n",
    "        tracks = spotify.playlist_items(playlist, fields='items.track.id, items.track.name')\n",
    "        for track in tracks['items']:\n",
    "            if track['track'] != None:\n",
    "                track_id = track['track']['id']\n",
    "                if track_id not in songs_df['track_id']: # Avoid duplicates\n",
    "                    features = spotify.audio_features(track_id)[0]\n",
    "                    if features != None:\n",
    "                        sample = [features[ft] for ft in feature_names]\n",
    "                        sample.insert(0, track_id)\n",
    "                        sample.append(label)\n",
    "                        songs_df.loc[len(songs_df.index)] = sample\n",
    "    return songs_df\n",
    "    "
   ]
  },
  {
   "cell_type": "code",
   "execution_count": 5,
   "metadata": {},
   "outputs": [],
   "source": [
    "jazz_playlists      = ['37i9dQZF1DXbITWG1ZJKYt', '37i9dQZF1DWVqfgj8NZEp1', '37i9dQZF1DX4wta20PHgwo', '37i9dQZF1DXdwTUxmGKrdN']\n",
    "classical_playlists = ['37i9dQZF1DWWEJlAGA9gs0', '37i9dQZF1DWVFeEut75IAL', '37i9dQZF1DX2XWJkYVfE4v', '37i9dQZF1DWYkztttC1w38']\n",
    "indie_playlists     = ['37i9dQZF1DX2Nc3B70tvx0', '37i9dQZF1DX2sUQwD7tbmL', '37i9dQZF1DXdwmD5Q7Gxah', '37i9dQZF1DX26DKvjp0s9M']\n",
    "country_playlists   = ['37i9dQZF1DX1lVhptIYRda', '37i9dQZF1DXdgnLr18vPvu', '37i9dQZF1DXaJXCbmtHVHV', '37i9dQZF1DWYnwbYQ5HnZU']\n",
    "rock_playlists      = ['37i9dQZF1DWXRqgorJj26U', '37i9dQZF1DWYE5MI4mMuii', '37i9dQZF1DWWJOmJ7nRx0C', '37i9dQZF1DXcF6B6QPhFDv']\n",
    "pop_playlists       = ['2UZk7JjJnbTut1w8fqs3JL', '5orZL8SetQM1LR3pMXZMOa', '50U0AhJcCUUNnk4Ott8RtB', '0locryv72BXQL47gTcFJch']\n",
    "hip_hop_playlists   = ['37i9dQZF1DX0XUsuxWHRQd', '37i9dQZF1DWY4xHQp97fN6', '37i9dQZF1DX2RxBh64BHjQ', '37i9dQZF1DWT5MrZnPU1zD']\n",
    "edm_playlists       = ['37i9dQZF1DX4dyzvuaRJ0n', '37i9dQZF1DX8tZsk68tuDw', '37i9dQZF1DX0BcQWzuB7ZO', '37i9dQZF1DX91oIci4su1D']\n",
    "\n",
    "label_to_playlists = {\n",
    "    nameof(jazz_playlists     ) : jazz_playlists     ,\n",
    "    nameof(classical_playlists) : classical_playlists,\n",
    "    nameof(indie_playlists    ) : indie_playlists    ,\n",
    "    nameof(country_playlists  ) : country_playlists  ,\n",
    "    nameof(rock_playlists     ) : rock_playlists     ,\n",
    "    nameof(pop_playlists      ) : pop_playlists      ,\n",
    "    nameof(hip_hop_playlists  ) : hip_hop_playlists  ,\n",
    "    nameof(edm_playlists      ) : edm_playlists      \n",
    "}\n"
   ]
  },
  {
   "cell_type": "code",
   "execution_count": 6,
   "metadata": {},
   "outputs": [],
   "source": [
    "happy_playlists     = ['0RH319xCjeU8VyTSqCF6M4', '4AnAUkQNrLKlJCInZGSXRO', '37i9dQZF1DXdPec7aLTmlC', '7a8xfvogHnGzZKQUenPCms']\n",
    "depressive_playlists= ['5NOuuN6KW7bKI6d2AwBra7', '7zpM1OnGtMY42Hmkf5uA8K', '3TGOu2KHhSW0uhgOhp0pUQ', '5TR9rccBQCQUxbqKQni60C']\n",
    "study_playlists     = ['471N195f5jAVs086lzYglw', '37i9dQZF1DX8Uebhn9wzrS', '3WLDIcG4Cx2UOPy0rbFhQn', '37i9dQZF1DX9sIqqvKsjG8']\n",
    "calm_playlists      = ['7LI3zw8HLkjKo5YpvA26KG', '4h2MD8T5fNW2Ss8sO5up68', '37i9dQZF1DX1s9knjP51Oa', '6X7wz4cCUBR6p68mzM7mZ4']\n",
    "energetic_playlists = ['37i9dQZF1EIhpwASZtXAyf', '04sjCX94iFX3eENxph6eIN', '2lmcuXNkjYOoQeXvwqvvFT', '61HtPhUmp6qNVaAq8wcOQs']\n",
    "workout_playlists   = ['37i9dQZF1DX8CwbNGNKurt', '4wJJY7tYsrxhHGpGYuJo7K', '7DaNB3xvJ4F96C66mQgmpS', '37i9dQZF1DXe6bgV3TmZOL']\n",
    "\n",
    "label_to_playlists = {\n",
    "    nameof(happy_playlists      ) : happy_playlists     ,\n",
    "    nameof(depressive_playlists ) : depressive_playlists,\n",
    "    nameof(study_playlists      ) : study_playlists     ,\n",
    "    nameof(calm_playlists       ) : calm_playlists      ,\n",
    "    nameof(energetic_playlists  ) : energetic_playlists ,\n",
    "    nameof(workout_playlists    ) : workout_playlists   \n",
    "}\n"
   ]
  },
  {
   "cell_type": "code",
   "execution_count": 7,
   "metadata": {},
   "outputs": [],
   "source": [
    "label = 1\n",
    "for name, playlists in label_to_playlists.items():\n",
    "    playlists_df = None\n",
    "    for playlist in playlists:\n",
    "        playlist_df = get_songs_data('playlist', playlist, label)\n",
    "        if playlists_df is None:\n",
    "            playlists_df = playlist_df\n",
    "        else: \n",
    "            playlists_df = pd.concat(\n",
    "                [playlists_df, playlist_df],\n",
    "                axis=0,\n",
    "                join=\"outer\",\n",
    "                ignore_index=False,\n",
    "                keys=None,\n",
    "                levels=None,\n",
    "                names=None,\n",
    "                verify_integrity=False,\n",
    "                copy=True,\n",
    "            )\n",
    "    \n",
    "    path = os.path.join(os.getcwd(), \"data\", f\"{name}_label_{label}.csv\")\n",
    "    playlists_df.to_csv(path, encoding='utf-8', index=True)\n",
    "    label += 1\n"
   ]
  }
 ],
 "metadata": {
  "interpreter": {
   "hash": "63fd5069d213b44bf678585dea6b12cceca9941eaf7f819626cde1f2670de90d"
  },
  "kernelspec": {
   "display_name": "Python 3.9.7 64-bit",
   "language": "python",
   "name": "python3"
  },
  "language_info": {
   "codemirror_mode": {
    "name": "ipython",
    "version": 3
   },
   "file_extension": ".py",
   "mimetype": "text/x-python",
   "name": "python",
   "nbconvert_exporter": "python",
   "pygments_lexer": "ipython3",
   "version": "3.9.7"
  },
  "orig_nbformat": 4
 },
 "nbformat": 4,
 "nbformat_minor": 2
}
