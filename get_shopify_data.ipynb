{
 "cells": [
  {
   "cell_type": "code",
   "execution_count": 5,
   "metadata": {},
   "outputs": [],
   "source": [
    "from spotipy.oauth2 import SpotifyClientCredentials\n",
    "import spotipy\n",
    "\n",
    "import csv\n",
    "import pandas as pd\n",
    "import os\n",
    "from varname import nameof\n"
   ]
  },
  {
   "cell_type": "code",
   "execution_count": 2,
   "metadata": {},
   "outputs": [],
   "source": [
    "client_id = \"17cb462452e3414fa20f6234f99db573\"\n",
    "client_secret = \"fcecbf7ffb4646e79d53dddfec6b5273\"\n",
    "client_credentials = SpotifyClientCredentials(client_id=client_id, client_secret=client_secret)\n",
    "spotify = spotipy.Spotify(client_credentials_manager=client_credentials)"
   ]
  },
  {
   "cell_type": "code",
   "execution_count": 6,
   "metadata": {},
   "outputs": [
    {
     "name": "stderr",
     "output_type": "stream",
     "text": [
      "<>:7: SyntaxWarning: \"is\" with a literal. Did you mean \"==\"?\n",
      "<>:7: SyntaxWarning: \"is\" with a literal. Did you mean \"==\"?\n",
      "C:\\Users\\fedor\\AppData\\Local\\Temp\\ipykernel_38068\\1366869642.py:7: SyntaxWarning: \"is\" with a literal. Did you mean \"==\"?\n",
      "  if prefix is 'playlist':\n"
     ]
    }
   ],
   "source": [
    "def get_songs_data(prefix, hash, label, feature_names=['danceability', 'energy', 'key', 'loudness', 'mode', 'speechiness', 'acousticness', 'instrumentalness', 'liveness', 'valence', 'tempo']):\n",
    "    feature_cols = [ name for name in feature_names]\n",
    "    feature_cols.insert(0, 'track_id')\n",
    "    feature_cols.append('label')\n",
    "    songs_df = pd.DataFrame(columns=feature_cols)\n",
    "\n",
    "    if prefix is 'playlist':\n",
    "        playlist = 'spotify:playlist:' + hash\n",
    "        tracks = spotify.playlist_items(playlist, fields='items.track.id, items.track.name')\n",
    "        for track in tracks['items']:\n",
    "            if track['track'] != None:\n",
    "                track_id = track['track']['id']\n",
    "                if track_id not in songs_df['track_id']: # Avoid duplicates\n",
    "                    features = spotify.audio_features(track_id)[0]\n",
    "                    if features != None:\n",
    "                        sample = [features[ft] for ft in feature_names]\n",
    "                        sample.insert(0, track_id)\n",
    "                        sample.append(label)\n",
    "                        songs_df.loc[len(songs_df.index)] = sample\n",
    "    return songs_df\n",
    "    "
   ]
  },
  {
   "cell_type": "code",
   "execution_count": 13,
   "metadata": {},
   "outputs": [
    {
     "name": "stderr",
     "output_type": "stream",
     "text": [
      "HTTP Error for GET to https://api.spotify.com/v1/playlists//tracks with Params: {'limit': 100, 'offset': 0, 'fields': 'items.track.id, items.track.name', 'market': None, 'additional_types': 'track,episode'} returned 404 due to Invalid playlist Id\n",
      "C:\\Users\\fedor\\AppData\\Local\\Temp\\ipykernel_38068\\1366869642.py:7: SyntaxWarning: \"is\" with a literal. Did you mean \"==\"?\n",
      "  if prefix is 'playlist':\n",
      "C:\\Users\\fedor\\AppData\\Local\\Temp\\ipykernel_38068\\1366869642.py:7: SyntaxWarning: \"is\" with a literal. Did you mean \"==\"?\n",
      "  if prefix is 'playlist':\n"
     ]
    },
    {
     "ename": "SpotifyException",
     "evalue": "http status: 404, code:-1 - https://api.spotify.com/v1/playlists//tracks?limit=100&offset=0&fields=items.track.id%2C+items.track.name&additional_types=track%2Cepisode:\n Invalid playlist Id, reason: None",
     "output_type": "error",
     "traceback": [
      "\u001b[1;31m---------------------------------------------------------------------------\u001b[0m",
      "\u001b[1;31mHTTPError\u001b[0m                                 Traceback (most recent call last)",
      "File \u001b[1;32m~\\AppData\\Roaming\\Python\\Python39\\site-packages\\spotipy\\client.py:245\u001b[0m, in \u001b[0;36mSpotify._internal_call\u001b[1;34m(self, method, url, payload, params)\u001b[0m\n\u001b[0;32m    <a href='file:///c%3A/Users/fedor/AppData/Roaming/Python/Python39/site-packages/spotipy/client.py?line=239'>240</a>\u001b[0m response \u001b[39m=\u001b[39m \u001b[39mself\u001b[39m\u001b[39m.\u001b[39m_session\u001b[39m.\u001b[39mrequest(\n\u001b[0;32m    <a href='file:///c%3A/Users/fedor/AppData/Roaming/Python/Python39/site-packages/spotipy/client.py?line=240'>241</a>\u001b[0m     method, url, headers\u001b[39m=\u001b[39mheaders, proxies\u001b[39m=\u001b[39m\u001b[39mself\u001b[39m\u001b[39m.\u001b[39mproxies,\n\u001b[0;32m    <a href='file:///c%3A/Users/fedor/AppData/Roaming/Python/Python39/site-packages/spotipy/client.py?line=241'>242</a>\u001b[0m     timeout\u001b[39m=\u001b[39m\u001b[39mself\u001b[39m\u001b[39m.\u001b[39mrequests_timeout, \u001b[39m*\u001b[39m\u001b[39m*\u001b[39margs\n\u001b[0;32m    <a href='file:///c%3A/Users/fedor/AppData/Roaming/Python/Python39/site-packages/spotipy/client.py?line=242'>243</a>\u001b[0m )\n\u001b[1;32m--> <a href='file:///c%3A/Users/fedor/AppData/Roaming/Python/Python39/site-packages/spotipy/client.py?line=244'>245</a>\u001b[0m response\u001b[39m.\u001b[39;49mraise_for_status()\n\u001b[0;32m    <a href='file:///c%3A/Users/fedor/AppData/Roaming/Python/Python39/site-packages/spotipy/client.py?line=245'>246</a>\u001b[0m results \u001b[39m=\u001b[39m response\u001b[39m.\u001b[39mjson()\n",
      "File \u001b[1;32mC:\\Python39\\lib\\site-packages\\requests\\models.py:953\u001b[0m, in \u001b[0;36mResponse.raise_for_status\u001b[1;34m(self)\u001b[0m\n\u001b[0;32m    <a href='file:///c%3A/Python39/lib/site-packages/requests/models.py?line=951'>952</a>\u001b[0m \u001b[39mif\u001b[39;00m http_error_msg:\n\u001b[1;32m--> <a href='file:///c%3A/Python39/lib/site-packages/requests/models.py?line=952'>953</a>\u001b[0m     \u001b[39mraise\u001b[39;00m HTTPError(http_error_msg, response\u001b[39m=\u001b[39m\u001b[39mself\u001b[39m)\n",
      "\u001b[1;31mHTTPError\u001b[0m: 404 Client Error: Not Found for url: https://api.spotify.com/v1/playlists//tracks?limit=100&offset=0&fields=items.track.id%2C+items.track.name&additional_types=track%2Cepisode",
      "\nDuring handling of the above exception, another exception occurred:\n",
      "\u001b[1;31mSpotifyException\u001b[0m                          Traceback (most recent call last)",
      "\u001b[1;32md:\\Synchronized\\School\\Courses\\CSDS484\\Assignments\\a10\\get_shopify_data.ipynb Cell 4'\u001b[0m in \u001b[0;36m<module>\u001b[1;34m\u001b[0m\n\u001b[0;32m     <a href='vscode-notebook-cell:/d%3A/Synchronized/School/Courses/CSDS484/Assignments/a10/get_shopify_data.ipynb#ch0000003?line=21'>22</a>\u001b[0m playlists_df \u001b[39m=\u001b[39m \u001b[39mNone\u001b[39;00m\n\u001b[0;32m     <a href='vscode-notebook-cell:/d%3A/Synchronized/School/Courses/CSDS484/Assignments/a10/get_shopify_data.ipynb#ch0000003?line=22'>23</a>\u001b[0m \u001b[39mfor\u001b[39;00m playlist \u001b[39min\u001b[39;00m playlists:\n\u001b[1;32m---> <a href='vscode-notebook-cell:/d%3A/Synchronized/School/Courses/CSDS484/Assignments/a10/get_shopify_data.ipynb#ch0000003?line=23'>24</a>\u001b[0m     playlist_df \u001b[39m=\u001b[39m get_songs_data(\u001b[39m'\u001b[39;49m\u001b[39mplaylist\u001b[39;49m\u001b[39m'\u001b[39;49m, playlist, \u001b[39m0\u001b[39;49m)\n\u001b[0;32m     <a href='vscode-notebook-cell:/d%3A/Synchronized/School/Courses/CSDS484/Assignments/a10/get_shopify_data.ipynb#ch0000003?line=24'>25</a>\u001b[0m     \u001b[39mif\u001b[39;00m playlists_df \u001b[39mis\u001b[39;00m \u001b[39mNone\u001b[39;00m:\n\u001b[0;32m     <a href='vscode-notebook-cell:/d%3A/Synchronized/School/Courses/CSDS484/Assignments/a10/get_shopify_data.ipynb#ch0000003?line=25'>26</a>\u001b[0m         playlists_df \u001b[39m=\u001b[39m playlist_df\n",
      "\u001b[1;32md:\\Synchronized\\School\\Courses\\CSDS484\\Assignments\\a10\\get_shopify_data.ipynb Cell 3'\u001b[0m in \u001b[0;36mget_songs_data\u001b[1;34m(prefix, hash, label, feature_names)\u001b[0m\n\u001b[0;32m      <a href='vscode-notebook-cell:/d%3A/Synchronized/School/Courses/CSDS484/Assignments/a10/get_shopify_data.ipynb#ch0000002?line=6'>7</a>\u001b[0m \u001b[39mif\u001b[39;00m prefix \u001b[39mis\u001b[39;00m \u001b[39m'\u001b[39m\u001b[39mplaylist\u001b[39m\u001b[39m'\u001b[39m:\n\u001b[0;32m      <a href='vscode-notebook-cell:/d%3A/Synchronized/School/Courses/CSDS484/Assignments/a10/get_shopify_data.ipynb#ch0000002?line=7'>8</a>\u001b[0m     playlist \u001b[39m=\u001b[39m \u001b[39m'\u001b[39m\u001b[39mspotify:playlist:\u001b[39m\u001b[39m'\u001b[39m \u001b[39m+\u001b[39m \u001b[39mhash\u001b[39m\n\u001b[1;32m----> <a href='vscode-notebook-cell:/d%3A/Synchronized/School/Courses/CSDS484/Assignments/a10/get_shopify_data.ipynb#ch0000002?line=8'>9</a>\u001b[0m     tracks \u001b[39m=\u001b[39m spotify\u001b[39m.\u001b[39;49mplaylist_items(playlist, fields\u001b[39m=\u001b[39;49m\u001b[39m'\u001b[39;49m\u001b[39mitems.track.id, items.track.name\u001b[39;49m\u001b[39m'\u001b[39;49m)\n\u001b[0;32m     <a href='vscode-notebook-cell:/d%3A/Synchronized/School/Courses/CSDS484/Assignments/a10/get_shopify_data.ipynb#ch0000002?line=9'>10</a>\u001b[0m     \u001b[39mfor\u001b[39;00m track \u001b[39min\u001b[39;00m tracks[\u001b[39m'\u001b[39m\u001b[39mitems\u001b[39m\u001b[39m'\u001b[39m]:\n\u001b[0;32m     <a href='vscode-notebook-cell:/d%3A/Synchronized/School/Courses/CSDS484/Assignments/a10/get_shopify_data.ipynb#ch0000002?line=10'>11</a>\u001b[0m         \u001b[39mif\u001b[39;00m track[\u001b[39m'\u001b[39m\u001b[39mtrack\u001b[39m\u001b[39m'\u001b[39m] \u001b[39m!=\u001b[39m \u001b[39mNone\u001b[39;00m:\n",
      "File \u001b[1;32m~\\AppData\\Roaming\\Python\\Python39\\site-packages\\spotipy\\client.py:673\u001b[0m, in \u001b[0;36mSpotify.playlist_items\u001b[1;34m(self, playlist_id, fields, limit, offset, market, additional_types)\u001b[0m\n\u001b[0;32m    <a href='file:///c%3A/Users/fedor/AppData/Roaming/Python/Python39/site-packages/spotipy/client.py?line=660'>661</a>\u001b[0m \u001b[39m\"\"\" Get full details of the tracks and episodes of a playlist.\u001b[39;00m\n\u001b[0;32m    <a href='file:///c%3A/Users/fedor/AppData/Roaming/Python/Python39/site-packages/spotipy/client.py?line=661'>662</a>\u001b[0m \n\u001b[0;32m    <a href='file:///c%3A/Users/fedor/AppData/Roaming/Python/Python39/site-packages/spotipy/client.py?line=662'>663</a>\u001b[0m \u001b[39m    Parameters:\u001b[39;00m\n\u001b[1;32m   (...)\u001b[0m\n\u001b[0;32m    <a href='file:///c%3A/Users/fedor/AppData/Roaming/Python/Python39/site-packages/spotipy/client.py?line=669'>670</a>\u001b[0m \u001b[39m                             valid types are: track and episode\u001b[39;00m\n\u001b[0;32m    <a href='file:///c%3A/Users/fedor/AppData/Roaming/Python/Python39/site-packages/spotipy/client.py?line=670'>671</a>\u001b[0m \u001b[39m\"\"\"\u001b[39;00m\n\u001b[0;32m    <a href='file:///c%3A/Users/fedor/AppData/Roaming/Python/Python39/site-packages/spotipy/client.py?line=671'>672</a>\u001b[0m plid \u001b[39m=\u001b[39m \u001b[39mself\u001b[39m\u001b[39m.\u001b[39m_get_id(\u001b[39m\"\u001b[39m\u001b[39mplaylist\u001b[39m\u001b[39m\"\u001b[39m, playlist_id)\n\u001b[1;32m--> <a href='file:///c%3A/Users/fedor/AppData/Roaming/Python/Python39/site-packages/spotipy/client.py?line=672'>673</a>\u001b[0m \u001b[39mreturn\u001b[39;00m \u001b[39mself\u001b[39;49m\u001b[39m.\u001b[39;49m_get(\n\u001b[0;32m    <a href='file:///c%3A/Users/fedor/AppData/Roaming/Python/Python39/site-packages/spotipy/client.py?line=673'>674</a>\u001b[0m     \u001b[39m\"\u001b[39;49m\u001b[39mplaylists/\u001b[39;49m\u001b[39m%s\u001b[39;49;00m\u001b[39m/tracks\u001b[39;49m\u001b[39m\"\u001b[39;49m \u001b[39m%\u001b[39;49m (plid),\n\u001b[0;32m    <a href='file:///c%3A/Users/fedor/AppData/Roaming/Python/Python39/site-packages/spotipy/client.py?line=674'>675</a>\u001b[0m     limit\u001b[39m=\u001b[39;49mlimit,\n\u001b[0;32m    <a href='file:///c%3A/Users/fedor/AppData/Roaming/Python/Python39/site-packages/spotipy/client.py?line=675'>676</a>\u001b[0m     offset\u001b[39m=\u001b[39;49moffset,\n\u001b[0;32m    <a href='file:///c%3A/Users/fedor/AppData/Roaming/Python/Python39/site-packages/spotipy/client.py?line=676'>677</a>\u001b[0m     fields\u001b[39m=\u001b[39;49mfields,\n\u001b[0;32m    <a href='file:///c%3A/Users/fedor/AppData/Roaming/Python/Python39/site-packages/spotipy/client.py?line=677'>678</a>\u001b[0m     market\u001b[39m=\u001b[39;49mmarket,\n\u001b[0;32m    <a href='file:///c%3A/Users/fedor/AppData/Roaming/Python/Python39/site-packages/spotipy/client.py?line=678'>679</a>\u001b[0m     additional_types\u001b[39m=\u001b[39;49m\u001b[39m\"\u001b[39;49m\u001b[39m,\u001b[39;49m\u001b[39m\"\u001b[39;49m\u001b[39m.\u001b[39;49mjoin(additional_types)\n\u001b[0;32m    <a href='file:///c%3A/Users/fedor/AppData/Roaming/Python/Python39/site-packages/spotipy/client.py?line=679'>680</a>\u001b[0m )\n",
      "File \u001b[1;32m~\\AppData\\Roaming\\Python\\Python39\\site-packages\\spotipy\\client.py:297\u001b[0m, in \u001b[0;36mSpotify._get\u001b[1;34m(self, url, args, payload, **kwargs)\u001b[0m\n\u001b[0;32m    <a href='file:///c%3A/Users/fedor/AppData/Roaming/Python/Python39/site-packages/spotipy/client.py?line=293'>294</a>\u001b[0m \u001b[39mif\u001b[39;00m args:\n\u001b[0;32m    <a href='file:///c%3A/Users/fedor/AppData/Roaming/Python/Python39/site-packages/spotipy/client.py?line=294'>295</a>\u001b[0m     kwargs\u001b[39m.\u001b[39mupdate(args)\n\u001b[1;32m--> <a href='file:///c%3A/Users/fedor/AppData/Roaming/Python/Python39/site-packages/spotipy/client.py?line=296'>297</a>\u001b[0m \u001b[39mreturn\u001b[39;00m \u001b[39mself\u001b[39;49m\u001b[39m.\u001b[39;49m_internal_call(\u001b[39m\"\u001b[39;49m\u001b[39mGET\u001b[39;49m\u001b[39m\"\u001b[39;49m, url, payload, kwargs)\n",
      "File \u001b[1;32m~\\AppData\\Roaming\\Python\\Python39\\site-packages\\spotipy\\client.py:267\u001b[0m, in \u001b[0;36mSpotify._internal_call\u001b[1;34m(self, method, url, payload, params)\u001b[0m\n\u001b[0;32m    <a href='file:///c%3A/Users/fedor/AppData/Roaming/Python/Python39/site-packages/spotipy/client.py?line=259'>260</a>\u001b[0m         reason \u001b[39m=\u001b[39m \u001b[39mNone\u001b[39;00m\n\u001b[0;32m    <a href='file:///c%3A/Users/fedor/AppData/Roaming/Python/Python39/site-packages/spotipy/client.py?line=261'>262</a>\u001b[0m     logger\u001b[39m.\u001b[39merror(\n\u001b[0;32m    <a href='file:///c%3A/Users/fedor/AppData/Roaming/Python/Python39/site-packages/spotipy/client.py?line=262'>263</a>\u001b[0m         \u001b[39m'\u001b[39m\u001b[39mHTTP Error for \u001b[39m\u001b[39m%s\u001b[39;00m\u001b[39m to \u001b[39m\u001b[39m%s\u001b[39;00m\u001b[39m with Params: \u001b[39m\u001b[39m%s\u001b[39;00m\u001b[39m returned \u001b[39m\u001b[39m%s\u001b[39;00m\u001b[39m due to \u001b[39m\u001b[39m%s\u001b[39;00m\u001b[39m'\u001b[39m,\n\u001b[0;32m    <a href='file:///c%3A/Users/fedor/AppData/Roaming/Python/Python39/site-packages/spotipy/client.py?line=263'>264</a>\u001b[0m         method, url, args\u001b[39m.\u001b[39mget(\u001b[39m\"\u001b[39m\u001b[39mparams\u001b[39m\u001b[39m\"\u001b[39m), response\u001b[39m.\u001b[39mstatus_code, msg\n\u001b[0;32m    <a href='file:///c%3A/Users/fedor/AppData/Roaming/Python/Python39/site-packages/spotipy/client.py?line=264'>265</a>\u001b[0m     )\n\u001b[1;32m--> <a href='file:///c%3A/Users/fedor/AppData/Roaming/Python/Python39/site-packages/spotipy/client.py?line=266'>267</a>\u001b[0m     \u001b[39mraise\u001b[39;00m SpotifyException(\n\u001b[0;32m    <a href='file:///c%3A/Users/fedor/AppData/Roaming/Python/Python39/site-packages/spotipy/client.py?line=267'>268</a>\u001b[0m         response\u001b[39m.\u001b[39mstatus_code,\n\u001b[0;32m    <a href='file:///c%3A/Users/fedor/AppData/Roaming/Python/Python39/site-packages/spotipy/client.py?line=268'>269</a>\u001b[0m         \u001b[39m-\u001b[39m\u001b[39m1\u001b[39m,\n\u001b[0;32m    <a href='file:///c%3A/Users/fedor/AppData/Roaming/Python/Python39/site-packages/spotipy/client.py?line=269'>270</a>\u001b[0m         \u001b[39m\"\u001b[39m\u001b[39m%s\u001b[39;00m\u001b[39m:\u001b[39m\u001b[39m\\n\u001b[39;00m\u001b[39m \u001b[39m\u001b[39m%s\u001b[39;00m\u001b[39m\"\u001b[39m \u001b[39m%\u001b[39m (response\u001b[39m.\u001b[39murl, msg),\n\u001b[0;32m    <a href='file:///c%3A/Users/fedor/AppData/Roaming/Python/Python39/site-packages/spotipy/client.py?line=270'>271</a>\u001b[0m         reason\u001b[39m=\u001b[39mreason,\n\u001b[0;32m    <a href='file:///c%3A/Users/fedor/AppData/Roaming/Python/Python39/site-packages/spotipy/client.py?line=271'>272</a>\u001b[0m         headers\u001b[39m=\u001b[39mresponse\u001b[39m.\u001b[39mheaders,\n\u001b[0;32m    <a href='file:///c%3A/Users/fedor/AppData/Roaming/Python/Python39/site-packages/spotipy/client.py?line=272'>273</a>\u001b[0m     )\n\u001b[0;32m    <a href='file:///c%3A/Users/fedor/AppData/Roaming/Python/Python39/site-packages/spotipy/client.py?line=273'>274</a>\u001b[0m \u001b[39mexcept\u001b[39;00m requests\u001b[39m.\u001b[39mexceptions\u001b[39m.\u001b[39mRetryError \u001b[39mas\u001b[39;00m retry_error:\n\u001b[0;32m    <a href='file:///c%3A/Users/fedor/AppData/Roaming/Python/Python39/site-packages/spotipy/client.py?line=274'>275</a>\u001b[0m     request \u001b[39m=\u001b[39m retry_error\u001b[39m.\u001b[39mrequest\n",
      "\u001b[1;31mSpotifyException\u001b[0m: http status: 404, code:-1 - https://api.spotify.com/v1/playlists//tracks?limit=100&offset=0&fields=items.track.id%2C+items.track.name&additional_types=track%2Cepisode:\n Invalid playlist Id, reason: None"
     ]
    }
   ],
   "source": [
    "jazz_playlists      = ['37i9dQZF1DXbITWG1ZJKYt', '37i9dQZF1DWVqfgj8NZEp1', '37i9dQZF1DX4wta20PHgwo', '37i9dQZF1DXdwTUxmGKrdN']\n",
    "classical_playlists = ['37i9dQZF1DWWEJlAGA9gs0', '37i9dQZF1DWVFeEut75IAL', '37i9dQZF1DX2XWJkYVfE4v', '37i9dQZF1DWYkztttC1w38']\n",
    "indie_playlists     = ['37i9dQZF1DX2Nc3B70tvx0', '37i9dQZF1DX2sUQwD7tbmL', '37i9dQZF1DXdwmD5Q7Gxah', '37i9dQZF1DX26DKvjp0s9M']\n",
    "country_playlists   = ['37i9dQZF1DX1lVhptIYRda', '37i9dQZF1DXdgnLr18vPvu', '37i9dQZF1DXaJXCbmtHVHV', '37i9dQZF1DWYnwbYQ5HnZU']\n",
    "rock_playlists      = ['37i9dQZF1DWXRqgorJj26U', '37i9dQZF1DWYE5MI4mMuii', '37i9dQZF1DWWJOmJ7nRx0C', '37i9dQZF1DXcF6B6QPhFDv']\n",
    "pop_playlists       = ['2UZk7JjJnbTut1w8fqs3JL', '5orZL8SetQM1LR3pMXZMOa', '50U0AhJcCUUNnk4Ott8RtB', '0locryv72BXQL47gTcFJch']\n",
    "hip_hop_playlists   = ['37i9dQZF1DX0XUsuxWHRQd', '37i9dQZF1DWY4xHQp97fN6', '37i9dQZF1DX2RxBh64BHjQ', '37i9dQZF1DWT5MrZnPU1zD']\n",
    "edm_playlists       = ['37i9dQZF1DX4dyzvuaRJ0n', '37i9dQZF1DX8tZsk68tuDw', '37i9dQZF1DX0BcQWzuB7ZO', '37i9dQZF1DX91oIci4su1D']\n",
    "\n",
    "label_to_playlists = {\n",
    "    nameof(jazz_playlists     ) : jazz_playlists     ,\n",
    "    nameof(classical_playlists) : classical_playlists,\n",
    "    nameof(indie_playlists    ) : indie_playlists    ,\n",
    "    nameof(country_playlists  ) : country_playlists  ,\n",
    "    nameof(rock_playlists     ) : rock_playlists     ,\n",
    "    nameof(pop_playlists      ) : pop_playlists      ,\n",
    "    nameof(hip_hop_playlists  ) : hip_hop_playlists  ,\n",
    "    nameof(edm_playlists      ) : edm_playlists      \n",
    "}\n",
    "label = 1\n",
    "for name, playlists in label_to_playlists.items():\n",
    "    playlists_df = None\n",
    "    for playlist in playlists:\n",
    "        playlist_df = get_songs_data('playlist', playlist, 0)\n",
    "        if playlists_df is None:\n",
    "            playlists_df = playlist_df\n",
    "        else: \n",
    "            playlists_df = pd.concat(\n",
    "                [playlists_df, playlist_df],\n",
    "                axis=0,\n",
    "                join=\"outer\",\n",
    "                ignore_index=False,\n",
    "                keys=None,\n",
    "                levels=None,\n",
    "                names=None,\n",
    "                verify_integrity=False,\n",
    "                copy=True,\n",
    "            )\n",
    "    \n",
    "    path = os.path.join(os.getcwd(), \"data\", f\"{name}_label_{label}.csv\")\n",
    "    playlists_df.to_csv(path, encoding='utf-8', index=True)\n",
    "    label += 1\n"
   ]
  }
 ],
 "metadata": {
  "interpreter": {
   "hash": "63fd5069d213b44bf678585dea6b12cceca9941eaf7f819626cde1f2670de90d"
  },
  "kernelspec": {
   "display_name": "Python 3.9.7 64-bit",
   "language": "python",
   "name": "python3"
  },
  "language_info": {
   "codemirror_mode": {
    "name": "ipython",
    "version": 3
   },
   "file_extension": ".py",
   "mimetype": "text/x-python",
   "name": "python",
   "nbconvert_exporter": "python",
   "pygments_lexer": "ipython3",
   "version": "3.9.7"
  },
  "orig_nbformat": 4
 },
 "nbformat": 4,
 "nbformat_minor": 2
}
