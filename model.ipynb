{
 "cells": [
  {
   "cell_type": "code",
   "execution_count": 2,
   "metadata": {},
   "outputs": [],
   "source": [
    "import pandas as pd\n",
    "import numpy as np\n",
    "from sklearn.model_selection import train_test_split\n",
    "\n",
    "import tensorflow as tf\n",
    "from tensorflow import keras\n",
    "import os\n",
    "from varname import nameof"
   ]
  },
  {
   "cell_type": "code",
   "execution_count": 6,
   "metadata": {},
   "outputs": [
    {
     "name": "stderr",
     "output_type": "stream",
     "text": [
      "\n",
      "KeyboardInterrupt\n",
      "\n"
     ]
    }
   ],
   "source": [
    "label_to_playlists = {\n",
    "    'jazz_playlists'      : 1,\n",
    "    'classical_playlists' : 2,\n",
    "    'indie_playlists'     : 3,\n",
    "    'country_playlists'   : 4,\n",
    "    'rock_playlists'      : 5,\n",
    "    'pop_playlists'       : 6,\n",
    "    'hip_hop_playlists'   : 7,\n",
    "    'edm_playlists'       : 8\n",
    "}\n",
    "label = 1\n",
    "all_features_df = None\n",
    "all_labels_df = None\n",
    "for name, label in label_to_playlists.items():\n",
    "    playlists_df = None\n",
    "    path = os.path.join(os.getcwd(), \"data\", f\"{name}_label_{label}.csv\")\n",
    "    dataframe = pd.read_csv(path)\n",
    "    dataframe = dataframe.drop_duplicates(subset='track_id', keep=False)\n",
    "    labels = dataframe.pop('label')\n",
    "    labels = labels.astype('float32')\n",
    "    features = dataframe.drop(['Unnamed: 0', 'track_id'], axis=1)\n",
    "    features.astype('float32') \n",
    "    if all_features_df is None:\n",
    "        all_features_df = features\n",
    "    else:\n",
    "        all_features_df = pd.concat(\n",
    "                [all_features_df, features],\n",
    "                axis=0,\n",
    "                join=\"outer\",\n",
    "                ignore_index=False,\n",
    "                keys=None,\n",
    "                levels=None,\n",
    "                names=None,\n",
    "                verify_integrity=False,\n",
    "                copy=True,\n",
    "            )\n",
    "    if all_labels_df is None:\n",
    "        all_labels_df = labels\n",
    "    else:\n",
    "        all_labels_df = pd.concat(\n",
    "                [all_labels_df, labels],\n",
    "                axis=0,\n",
    "                join=\"outer\",\n",
    "                ignore_index=False,\n",
    "                keys=None,\n",
    "                levels=None,\n",
    "                names=None,\n",
    "                verify_integrity=False,\n",
    "                copy=True,\n",
    "            )\n",
    "\n",
    "\n",
    "x_train, x_test, y_train, y_test = train_test_split(all_features_df, all_labels_df, test_size=0.20, stratify=labels)\n",
    "\n",
    "\n",
    "\n",
    "model = keras.models.Sequential([\n",
    "    keras.layers.Dense(12, activation='relu'),\n",
    "    keras.layers.Dense(20, activation='relu'),\n",
    "    keras.layers.Dense(10, activation='relu'),\n",
    "    keras.layers.Dense(5, activation='relu'),\n",
    "    keras.layers.Dense(2, activation='linear')\n",
    "])\n",
    "\n",
    "model.compile(loss='binary_crossentropy',\n",
    "              optimizer=keras.optimizers.RMSprop(lr=1e-4),\n",
    "              metrics=['accuracy'])\n",
    "\n",
    "history = model.fit(\n",
    "    x_train,\n",
    "    y_train,\n",
    "    steps_per_epoch=10,\n",
    "    epochs=10,\n",
    "    validation_steps=5,\n",
    "    verbose=2)\n",
    "\n",
    "print(model.evaluate(\n",
    "    x=x_test,\n",
    "    y=y_test,\n",
    "))\n"
   ]
  }
 ],
 "metadata": {
  "interpreter": {
   "hash": "63fd5069d213b44bf678585dea6b12cceca9941eaf7f819626cde1f2670de90d"
  },
  "kernelspec": {
   "display_name": "Python 3.9.7 64-bit",
   "language": "python",
   "name": "python3"
  },
  "language_info": {
   "codemirror_mode": {
    "name": "ipython",
    "version": 3
   },
   "file_extension": ".py",
   "mimetype": "text/x-python",
   "name": "python",
   "nbconvert_exporter": "python",
   "pygments_lexer": "ipython3",
   "version": "3.9.7"
  },
  "orig_nbformat": 4
 },
 "nbformat": 4,
 "nbformat_minor": 2
}
